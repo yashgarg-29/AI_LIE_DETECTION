{
 "cells": [
  {
   "cell_type": "code",
   "execution_count": 5,
   "id": "7e2974de-2839-4b3b-87a4-de9e05032b96",
   "metadata": {},
   "outputs": [
    {
     "name": "stdout",
     "output_type": "stream",
     "text": [
      "Requirement already satisfied: librosa in c:\\users\\yashi\\appdata\\local\\programs\\python\\python310\\lib\\site-packages (0.11.0)\n",
      "Requirement already satisfied: numpy in c:\\users\\yashi\\appdata\\local\\programs\\python\\python310\\lib\\site-packages (2.1.3)\n",
      "Requirement already satisfied: pandas in c:\\users\\yashi\\appdata\\local\\programs\\python\\python310\\lib\\site-packages (2.3.1)\n",
      "Requirement already satisfied: audioread>=2.1.9 in c:\\users\\yashi\\appdata\\local\\programs\\python\\python310\\lib\\site-packages (from librosa) (3.0.1)\n",
      "Requirement already satisfied: scipy>=1.6.0 in c:\\users\\yashi\\appdata\\local\\programs\\python\\python310\\lib\\site-packages (from librosa) (1.15.3)\n",
      "Requirement already satisfied: joblib>=1.0 in c:\\users\\yashi\\appdata\\local\\programs\\python\\python310\\lib\\site-packages (from librosa) (1.5.1)\n",
      "Requirement already satisfied: lazy_loader>=0.1 in c:\\users\\yashi\\appdata\\local\\programs\\python\\python310\\lib\\site-packages (from librosa) (0.4)\n",
      "Requirement already satisfied: scikit-learn>=1.1.0 in c:\\users\\yashi\\appdata\\local\\programs\\python\\python310\\lib\\site-packages (from librosa) (1.7.0)\n",
      "Requirement already satisfied: soundfile>=0.12.1 in c:\\users\\yashi\\appdata\\local\\programs\\python\\python310\\lib\\site-packages (from librosa) (0.13.1)\n",
      "Requirement already satisfied: msgpack>=1.0 in c:\\users\\yashi\\appdata\\local\\programs\\python\\python310\\lib\\site-packages (from librosa) (1.1.1)\n",
      "Requirement already satisfied: typing_extensions>=4.1.1 in c:\\users\\yashi\\appdata\\local\\programs\\python\\python310\\lib\\site-packages (from librosa) (4.14.1)\n",
      "Requirement already satisfied: numba>=0.51.0 in c:\\users\\yashi\\appdata\\local\\programs\\python\\python310\\lib\\site-packages (from librosa) (0.61.2)\n",
      "Requirement already satisfied: decorator>=4.3.0 in c:\\users\\yashi\\appdata\\local\\programs\\python\\python310\\lib\\site-packages (from librosa) (5.2.1)\n",
      "Requirement already satisfied: soxr>=0.3.2 in c:\\users\\yashi\\appdata\\local\\programs\\python\\python310\\lib\\site-packages (from librosa) (0.5.0.post1)\n",
      "Requirement already satisfied: pooch>=1.1 in c:\\users\\yashi\\appdata\\local\\programs\\python\\python310\\lib\\site-packages (from librosa) (1.8.2)\n",
      "Requirement already satisfied: pytz>=2020.1 in c:\\users\\yashi\\appdata\\local\\programs\\python\\python310\\lib\\site-packages (from pandas) (2025.2)\n",
      "Requirement already satisfied: python-dateutil>=2.8.2 in c:\\users\\yashi\\appdata\\local\\programs\\python\\python310\\lib\\site-packages (from pandas) (2.9.0.post0)\n",
      "Requirement already satisfied: tzdata>=2022.7 in c:\\users\\yashi\\appdata\\local\\programs\\python\\python310\\lib\\site-packages (from pandas) (2025.2)\n",
      "Requirement already satisfied: packaging in c:\\users\\yashi\\appdata\\local\\programs\\python\\python310\\lib\\site-packages (from lazy_loader>=0.1->librosa) (25.0)\n",
      "Requirement already satisfied: llvmlite<0.45,>=0.44.0dev0 in c:\\users\\yashi\\appdata\\local\\programs\\python\\python310\\lib\\site-packages (from numba>=0.51.0->librosa) (0.44.0)\n",
      "Requirement already satisfied: requests>=2.19.0 in c:\\users\\yashi\\appdata\\local\\programs\\python\\python310\\lib\\site-packages (from pooch>=1.1->librosa) (2.32.4)\n",
      "Requirement already satisfied: platformdirs>=2.5.0 in c:\\users\\yashi\\appdata\\local\\programs\\python\\python310\\lib\\site-packages (from pooch>=1.1->librosa) (4.3.8)\n",
      "Requirement already satisfied: six>=1.5 in c:\\users\\yashi\\appdata\\local\\programs\\python\\python310\\lib\\site-packages (from python-dateutil>=2.8.2->pandas) (1.17.0)\n",
      "Requirement already satisfied: threadpoolctl>=3.1.0 in c:\\users\\yashi\\appdata\\local\\programs\\python\\python310\\lib\\site-packages (from scikit-learn>=1.1.0->librosa) (3.6.0)\n",
      "Requirement already satisfied: cffi>=1.0 in c:\\users\\yashi\\appdata\\local\\programs\\python\\python310\\lib\\site-packages (from soundfile>=0.12.1->librosa) (1.17.1)\n",
      "Requirement already satisfied: pycparser in c:\\users\\yashi\\appdata\\local\\programs\\python\\python310\\lib\\site-packages (from cffi>=1.0->soundfile>=0.12.1->librosa) (2.22)\n",
      "Requirement already satisfied: charset_normalizer<4,>=2 in c:\\users\\yashi\\appdata\\local\\programs\\python\\python310\\lib\\site-packages (from requests>=2.19.0->pooch>=1.1->librosa) (3.4.2)\n",
      "Requirement already satisfied: urllib3<3,>=1.21.1 in c:\\users\\yashi\\appdata\\local\\programs\\python\\python310\\lib\\site-packages (from requests>=2.19.0->pooch>=1.1->librosa) (2.5.0)\n",
      "Requirement already satisfied: idna<4,>=2.5 in c:\\users\\yashi\\appdata\\local\\programs\\python\\python310\\lib\\site-packages (from requests>=2.19.0->pooch>=1.1->librosa) (3.10)\n",
      "Requirement already satisfied: certifi>=2017.4.17 in c:\\users\\yashi\\appdata\\local\\programs\\python\\python310\\lib\\site-packages (from requests>=2.19.0->pooch>=1.1->librosa) (2025.6.15)\n"
     ]
    },
    {
     "name": "stderr",
     "output_type": "stream",
     "text": [
      "\n",
      "[notice] A new release of pip is available: 23.0.1 -> 25.2\n",
      "[notice] To update, run: python.exe -m pip install --upgrade pip\n"
     ]
    }
   ],
   "source": [
    "#  Install Dependencies\n",
    "!pip install librosa numpy pandas"
   ]
  },
  {
   "cell_type": "code",
   "execution_count": 6,
   "id": "f4496dd3-9ef8-4b55-97f5-e637eeaf2bdf",
   "metadata": {},
   "outputs": [],
   "source": [
    "#  Import Libraries\n",
    "import os\n",
    "import librosa\n",
    "import numpy as np\n",
    "import pandas as pd"
   ]
  },
  {
   "cell_type": "code",
   "execution_count": 12,
   "id": "a7d15c8a-db46-4755-ba3a-75e0894e0fd8",
   "metadata": {},
   "outputs": [],
   "source": [
    "#  Define Feature Extraction Function\n",
    "def extract_features(file_path, sr=22050, n_mfcc=13):\n",
    "    \"\"\"\n",
    "    Extract MFCC, pitch, zero crossing rate, and RMS energy from audio file.\n",
    "    Returns a feature vector (list).\n",
    "    \"\"\"\n",
    "    # Load audio\n",
    "    y, sr = librosa.load(file_path, sr=sr)\n",
    "\n",
    "    # MFCCs (mean + std)\n",
    "    mfccs = librosa.feature.mfcc(y=y, sr=sr, n_mfcc=n_mfcc)\n",
    "    mfccs_mean = np.mean(mfccs, axis=1)\n",
    "    mfccs_std = np.std(mfccs, axis=1)\n",
    "\n",
    "    # Pitch estimation\n",
    "    pitches, magnitudes = librosa.piptrack(y=y, sr=sr)\n",
    "    pitch_values = pitches[magnitudes > np.median(magnitudes)]\n",
    "    pitch_mean = np.mean(pitch_values) if len(pitch_values) > 0 else 0\n",
    "    pitch_std = np.std(pitch_values) if len(pitch_values) > 0 else 0\n",
    "\n",
    "    # Zero crossing rate\n",
    "    zcr = librosa.feature.zero_crossing_rate(y)\n",
    "    zcr_mean = np.mean(zcr)\n",
    "    zcr_std = np.std(zcr)\n",
    "\n",
    "    # RMS energy\n",
    "    rms = librosa.feature.rms(y=y)\n",
    "    rms_mean = np.mean(rms)\n",
    "    rms_std = np.std(rms)\n",
    "\n",
    "    # Return combined features\n",
    "    features = list(mfccs_mean) + list(mfccs_std) + [\n",
    "        pitch_mean, pitch_std, zcr_mean, zcr_std, rms_mean, rms_std\n",
    "    ]\n",
    "    return features\n"
   ]
  },
  {
   "cell_type": "code",
   "execution_count": 13,
   "id": "e1e275ca-0002-46dc-8a6d-a72f85fe291c",
   "metadata": {},
   "outputs": [
    {
     "name": "stdout",
     "output_type": "stream",
     "text": [
      "✅ Folder ready: dataset\\truth\n",
      "✅ Folder ready: dataset\\lie\n",
      "✅ Folder ready: dataset\\uncertain\n",
      "\n",
      "Now put your .wav files in:\n",
      "dataset/truth/ → for truthful speech\n",
      "dataset/lie/ → for lies\n",
      "dataset/uncertain/ → for uncertain cases\n"
     ]
    }
   ],
   "source": [
    "# Create Dataset Folder Structure\n",
    "import os\n",
    "\n",
    "# Define main dataset directory\n",
    "DATASET_DIR = \"dataset\"\n",
    "\n",
    "# Define subfolders and labels\n",
    "LABELS = [\"truth\", \"lie\", \"uncertain\"]\n",
    "\n",
    "# Create folders if they don't exist\n",
    "for label in LABELS:\n",
    "    path = os.path.join(DATASET_DIR, label)\n",
    "    os.makedirs(path, exist_ok=True)\n",
    "    print(f\"✅ Folder ready: {path}\")\n",
    "\n",
    "print(\"\\nNow put your .wav files in:\")\n",
    "print(\"dataset/truth/ → for truthful speech\")\n",
    "print(\"dataset/lie/ → for lies\")\n",
    "print(\"dataset/uncertain/ → for uncertain cases\")\n"
   ]
  },
  {
   "cell_type": "code",
   "execution_count": 14,
   "id": "d6df123b-edb1-4a31-b718-f09aff9d610c",
   "metadata": {},
   "outputs": [
    {
     "name": "stdout",
     "output_type": "stream",
     "text": [
      "📂 Found 0 files in truth/\n",
      "📂 Found 0 files in lie/\n",
      "📂 Found 0 files in uncertain/\n",
      "\n",
      "🎯 Features extracted: 0 samples, 33 features\n",
      "📄 Saved CSV to: voice_features.csv\n"
     ]
    }
   ],
   "source": [
    "# Build CSV from Dataset (Notebook Ready)\n",
    "import os\n",
    "import pandas as pd\n",
    "\n",
    "# Dataset base folder (make sure you already have dataset/truth, dataset/lie, dataset/uncertain)\n",
    "DATASET_DIR = \"dataset\"\n",
    "\n",
    "# Label mapping: truth=0, lie=1, uncertain=2\n",
    "LABELS_MAP = {\"truth\": 0, \"lie\": 1, \"uncertain\": 2}\n",
    "\n",
    "# Container for extracted rows\n",
    "rows = []\n",
    "\n",
    "# Loop through folders and extract features\n",
    "for label_name, label_value in LABELS_MAP.items():\n",
    "    folder = os.path.join(DATASET_DIR, label_name)\n",
    "    if not os.path.isdir(folder):\n",
    "        print(f\"⚠️ Skipping missing folder: {folder}\")\n",
    "        continue\n",
    "\n",
    "    # List all WAV files in current folder\n",
    "    files = [f for f in os.listdir(folder) if f.lower().endswith(\".wav\")]\n",
    "    print(f\"📂 Found {len(files)} files in {label_name}/\")\n",
    "\n",
    "    for file in files:\n",
    "        path = os.path.join(folder, file)\n",
    "        try:\n",
    "            # Extract features from audio file\n",
    "            features = extract_features(path)\n",
    "\n",
    "            # Add label at the end\n",
    "            rows.append(features + [label_value])\n",
    "\n",
    "            print(f\"✅ Processed {file}\")\n",
    "        except Exception as e:\n",
    "            print(f\"❌ Error processing {file}: {e}\")\n",
    "\n",
    "# Define column names (13 MFCC mean + 13 MFCC std + pitch + ZCR + RMS + label)\n",
    "columns = [f\"mfcc_mean_{i}\" for i in range(13)] + \\\n",
    "          [f\"mfcc_std_{i}\" for i in range(13)] + \\\n",
    "          [\"pitch_mean\", \"pitch_std\", \"zcr_mean\", \"zcr_std\", \"rms_mean\", \"rms_std\", \"label\"]\n",
    "\n",
    "# Create DataFrame\n",
    "df = pd.DataFrame(rows, columns=columns)\n",
    "\n",
    "# Save as CSV\n",
    "csv_path = \"voice_features.csv\"\n",
    "df.to_csv(csv_path, index=False)\n",
    "\n",
    "print(f\"\\n🎯 Features extracted: {df.shape[0]} samples, {df.shape[1]} features\")\n",
    "print(f\"📄 Saved CSV to: {csv_path}\")\n"
   ]
  },
  {
   "cell_type": "code",
   "execution_count": 15,
   "id": "18a7b2c3-b1da-457d-a5d0-bf42f5fe8a1d",
   "metadata": {},
   "outputs": [
    {
     "data": {
      "text/html": [
       "<div>\n",
       "<style scoped>\n",
       "    .dataframe tbody tr th:only-of-type {\n",
       "        vertical-align: middle;\n",
       "    }\n",
       "\n",
       "    .dataframe tbody tr th {\n",
       "        vertical-align: top;\n",
       "    }\n",
       "\n",
       "    .dataframe thead th {\n",
       "        text-align: right;\n",
       "    }\n",
       "</style>\n",
       "<table border=\"1\" class=\"dataframe\">\n",
       "  <thead>\n",
       "    <tr style=\"text-align: right;\">\n",
       "      <th></th>\n",
       "      <th>mfcc_mean_0</th>\n",
       "      <th>mfcc_mean_1</th>\n",
       "      <th>mfcc_mean_2</th>\n",
       "      <th>mfcc_mean_3</th>\n",
       "      <th>mfcc_mean_4</th>\n",
       "      <th>mfcc_mean_5</th>\n",
       "      <th>mfcc_mean_6</th>\n",
       "      <th>mfcc_mean_7</th>\n",
       "      <th>mfcc_mean_8</th>\n",
       "      <th>mfcc_mean_9</th>\n",
       "      <th>...</th>\n",
       "      <th>mfcc_std_10</th>\n",
       "      <th>mfcc_std_11</th>\n",
       "      <th>mfcc_std_12</th>\n",
       "      <th>pitch_mean</th>\n",
       "      <th>pitch_std</th>\n",
       "      <th>zcr_mean</th>\n",
       "      <th>zcr_std</th>\n",
       "      <th>rms_mean</th>\n",
       "      <th>rms_std</th>\n",
       "      <th>label</th>\n",
       "    </tr>\n",
       "  </thead>\n",
       "  <tbody>\n",
       "  </tbody>\n",
       "</table>\n",
       "<p>0 rows × 33 columns</p>\n",
       "</div>"
      ],
      "text/plain": [
       "Empty DataFrame\n",
       "Columns: [mfcc_mean_0, mfcc_mean_1, mfcc_mean_2, mfcc_mean_3, mfcc_mean_4, mfcc_mean_5, mfcc_mean_6, mfcc_mean_7, mfcc_mean_8, mfcc_mean_9, mfcc_mean_10, mfcc_mean_11, mfcc_mean_12, mfcc_std_0, mfcc_std_1, mfcc_std_2, mfcc_std_3, mfcc_std_4, mfcc_std_5, mfcc_std_6, mfcc_std_7, mfcc_std_8, mfcc_std_9, mfcc_std_10, mfcc_std_11, mfcc_std_12, pitch_mean, pitch_std, zcr_mean, zcr_std, rms_mean, rms_std, label]\n",
       "Index: []\n",
       "\n",
       "[0 rows x 33 columns]"
      ]
     },
     "execution_count": 15,
     "metadata": {},
     "output_type": "execute_result"
    }
   ],
   "source": [
    "# Preview Extracted CSV\n",
    "\n",
    "# Check first 5 rows of the dataframe\n",
    "df.head()\n"
   ]
  },
  {
   "cell_type": "code",
   "execution_count": 16,
   "id": "049abf88-2c93-4626-97f2-b7394193c673",
   "metadata": {},
   "outputs": [
    {
     "name": "stdout",
     "output_type": "stream",
     "text": [
      "Dataset shape: (0, 33)\n",
      "\n",
      "Missing values per column:\n",
      " mfcc_mean_0     0\n",
      "mfcc_mean_1     0\n",
      "mfcc_mean_2     0\n",
      "mfcc_mean_3     0\n",
      "mfcc_mean_4     0\n",
      "mfcc_mean_5     0\n",
      "mfcc_mean_6     0\n",
      "mfcc_mean_7     0\n",
      "mfcc_mean_8     0\n",
      "mfcc_mean_9     0\n",
      "mfcc_mean_10    0\n",
      "mfcc_mean_11    0\n",
      "mfcc_mean_12    0\n",
      "mfcc_std_0      0\n",
      "mfcc_std_1      0\n",
      "mfcc_std_2      0\n",
      "mfcc_std_3      0\n",
      "mfcc_std_4      0\n",
      "mfcc_std_5      0\n",
      "mfcc_std_6      0\n",
      "mfcc_std_7      0\n",
      "mfcc_std_8      0\n",
      "mfcc_std_9      0\n",
      "mfcc_std_10     0\n",
      "mfcc_std_11     0\n",
      "mfcc_std_12     0\n",
      "pitch_mean      0\n",
      "pitch_std       0\n",
      "zcr_mean        0\n",
      "zcr_std         0\n",
      "rms_mean        0\n",
      "rms_std         0\n",
      "label           0\n",
      "dtype: int64\n",
      "\n",
      "Label distribution:\n",
      "Series([], Name: count, dtype: int64)\n"
     ]
    }
   ],
   "source": [
    "# Basic Info about Dataset\n",
    "# Shape of the dataset (rows = audio samples, columns = features)\n",
    "print(\"Dataset shape:\", df.shape)\n",
    "\n",
    "# Check if there are missing values\n",
    "print(\"\\nMissing values per column:\\n\", df.isnull().sum())\n",
    "\n",
    "# Count of each label\n",
    "print(\"\\nLabel distribution:\")\n",
    "print(df[\"label\"].value_counts())\n"
   ]
  },
  {
   "cell_type": "code",
   "execution_count": 17,
   "id": "7f6a6d81-aa7d-489e-92f7-62b7f372ce93",
   "metadata": {},
   "outputs": [
    {
     "ename": "IndexError",
     "evalue": "index 0 is out of bounds for axis 0 with size 0",
     "output_type": "error",
     "traceback": [
      "\u001b[1;31m---------------------------------------------------------------------------\u001b[0m",
      "\u001b[1;31mIndexError\u001b[0m                                Traceback (most recent call last)",
      "Cell \u001b[1;32mIn[17], line 5\u001b[0m\n\u001b[0;32m      2\u001b[0m \u001b[38;5;28;01mimport\u001b[39;00m\u001b[38;5;250m \u001b[39m\u001b[38;5;21;01mmatplotlib\u001b[39;00m\u001b[38;5;21;01m.\u001b[39;00m\u001b[38;5;21;01mpyplot\u001b[39;00m\u001b[38;5;250m \u001b[39m\u001b[38;5;28;01mas\u001b[39;00m\u001b[38;5;250m \u001b[39m\u001b[38;5;21;01mplt\u001b[39;00m\n\u001b[0;32m      4\u001b[0m \u001b[38;5;66;03m# Plot distribution of labels\u001b[39;00m\n\u001b[1;32m----> 5\u001b[0m \u001b[43mdf\u001b[49m\u001b[43m[\u001b[49m\u001b[38;5;124;43m\"\u001b[39;49m\u001b[38;5;124;43mlabel\u001b[39;49m\u001b[38;5;124;43m\"\u001b[39;49m\u001b[43m]\u001b[49m\u001b[38;5;241;43m.\u001b[39;49m\u001b[43mvalue_counts\u001b[49m\u001b[43m(\u001b[49m\u001b[43m)\u001b[49m\u001b[38;5;241;43m.\u001b[39;49m\u001b[43mplot\u001b[49m\u001b[43m(\u001b[49m\u001b[43mkind\u001b[49m\u001b[38;5;241;43m=\u001b[39;49m\u001b[38;5;124;43m\"\u001b[39;49m\u001b[38;5;124;43mbar\u001b[39;49m\u001b[38;5;124;43m\"\u001b[39;49m\u001b[43m,\u001b[49m\u001b[43m \u001b[49m\u001b[43mcolor\u001b[49m\u001b[38;5;241;43m=\u001b[39;49m\u001b[43m[\u001b[49m\u001b[38;5;124;43m\"\u001b[39;49m\u001b[38;5;124;43mgreen\u001b[39;49m\u001b[38;5;124;43m\"\u001b[39;49m\u001b[43m,\u001b[49m\u001b[38;5;124;43m\"\u001b[39;49m\u001b[38;5;124;43mred\u001b[39;49m\u001b[38;5;124;43m\"\u001b[39;49m\u001b[43m,\u001b[49m\u001b[38;5;124;43m\"\u001b[39;49m\u001b[38;5;124;43morange\u001b[39;49m\u001b[38;5;124;43m\"\u001b[39;49m\u001b[43m]\u001b[49m\u001b[43m)\u001b[49m\n\u001b[0;32m      6\u001b[0m plt\u001b[38;5;241m.\u001b[39mtitle(\u001b[38;5;124m\"\u001b[39m\u001b[38;5;124mLabel Distribution (0=Truth, 1=Lie, 2=Uncertain)\u001b[39m\u001b[38;5;124m\"\u001b[39m)\n\u001b[0;32m      7\u001b[0m plt\u001b[38;5;241m.\u001b[39mxlabel(\u001b[38;5;124m\"\u001b[39m\u001b[38;5;124mLabel\u001b[39m\u001b[38;5;124m\"\u001b[39m)\n",
      "File \u001b[1;32m~\\AppData\\Local\\Programs\\Python\\Python310\\lib\\site-packages\\pandas\\plotting\\_core.py:1030\u001b[0m, in \u001b[0;36mPlotAccessor.__call__\u001b[1;34m(self, *args, **kwargs)\u001b[0m\n\u001b[0;32m   1027\u001b[0m             label_name \u001b[38;5;241m=\u001b[39m label_kw \u001b[38;5;129;01mor\u001b[39;00m data\u001b[38;5;241m.\u001b[39mcolumns\n\u001b[0;32m   1028\u001b[0m             data\u001b[38;5;241m.\u001b[39mcolumns \u001b[38;5;241m=\u001b[39m label_name\n\u001b[1;32m-> 1030\u001b[0m \u001b[38;5;28;01mreturn\u001b[39;00m plot_backend\u001b[38;5;241m.\u001b[39mplot(data, kind\u001b[38;5;241m=\u001b[39mkind, \u001b[38;5;241m*\u001b[39m\u001b[38;5;241m*\u001b[39mkwargs)\n",
      "File \u001b[1;32m~\\AppData\\Local\\Programs\\Python\\Python310\\lib\\site-packages\\pandas\\plotting\\_matplotlib\\__init__.py:71\u001b[0m, in \u001b[0;36mplot\u001b[1;34m(data, kind, **kwargs)\u001b[0m\n\u001b[0;32m     69\u001b[0m         kwargs[\u001b[38;5;124m\"\u001b[39m\u001b[38;5;124max\u001b[39m\u001b[38;5;124m\"\u001b[39m] \u001b[38;5;241m=\u001b[39m \u001b[38;5;28mgetattr\u001b[39m(ax, \u001b[38;5;124m\"\u001b[39m\u001b[38;5;124mleft_ax\u001b[39m\u001b[38;5;124m\"\u001b[39m, ax)\n\u001b[0;32m     70\u001b[0m plot_obj \u001b[38;5;241m=\u001b[39m PLOT_CLASSES[kind](data, \u001b[38;5;241m*\u001b[39m\u001b[38;5;241m*\u001b[39mkwargs)\n\u001b[1;32m---> 71\u001b[0m \u001b[43mplot_obj\u001b[49m\u001b[38;5;241;43m.\u001b[39;49m\u001b[43mgenerate\u001b[49m\u001b[43m(\u001b[49m\u001b[43m)\u001b[49m\n\u001b[0;32m     72\u001b[0m plot_obj\u001b[38;5;241m.\u001b[39mdraw()\n\u001b[0;32m     73\u001b[0m \u001b[38;5;28;01mreturn\u001b[39;00m plot_obj\u001b[38;5;241m.\u001b[39mresult\n",
      "File \u001b[1;32m~\\AppData\\Local\\Programs\\Python\\Python310\\lib\\site-packages\\pandas\\plotting\\_matplotlib\\core.py:508\u001b[0m, in \u001b[0;36mMPLPlot.generate\u001b[1;34m(self)\u001b[0m\n\u001b[0;32m    506\u001b[0m \u001b[38;5;28;01mfor\u001b[39;00m ax \u001b[38;5;129;01min\u001b[39;00m \u001b[38;5;28mself\u001b[39m\u001b[38;5;241m.\u001b[39maxes:\n\u001b[0;32m    507\u001b[0m     \u001b[38;5;28mself\u001b[39m\u001b[38;5;241m.\u001b[39m_post_plot_logic_common(ax)\n\u001b[1;32m--> 508\u001b[0m     \u001b[38;5;28;43mself\u001b[39;49m\u001b[38;5;241;43m.\u001b[39;49m\u001b[43m_post_plot_logic\u001b[49m\u001b[43m(\u001b[49m\u001b[43max\u001b[49m\u001b[43m,\u001b[49m\u001b[43m \u001b[49m\u001b[38;5;28;43mself\u001b[39;49m\u001b[38;5;241;43m.\u001b[39;49m\u001b[43mdata\u001b[49m\u001b[43m)\u001b[49m\n",
      "File \u001b[1;32m~\\AppData\\Local\\Programs\\Python\\Python310\\lib\\site-packages\\pandas\\plotting\\_matplotlib\\core.py:1972\u001b[0m, in \u001b[0;36mBarPlot._post_plot_logic\u001b[1;34m(self, ax, data)\u001b[0m\n\u001b[0;32m   1969\u001b[0m \u001b[38;5;28;01melse\u001b[39;00m:\n\u001b[0;32m   1970\u001b[0m     str_index \u001b[38;5;241m=\u001b[39m [pprint_thing(key) \u001b[38;5;28;01mfor\u001b[39;00m key \u001b[38;5;129;01min\u001b[39;00m \u001b[38;5;28mrange\u001b[39m(data\u001b[38;5;241m.\u001b[39mshape[\u001b[38;5;241m0\u001b[39m])]\n\u001b[1;32m-> 1972\u001b[0m s_edge \u001b[38;5;241m=\u001b[39m \u001b[38;5;28;43mself\u001b[39;49m\u001b[38;5;241;43m.\u001b[39;49m\u001b[43max_pos\u001b[49m\u001b[43m[\u001b[49m\u001b[38;5;241;43m0\u001b[39;49m\u001b[43m]\u001b[49m \u001b[38;5;241m-\u001b[39m \u001b[38;5;241m0.25\u001b[39m \u001b[38;5;241m+\u001b[39m \u001b[38;5;28mself\u001b[39m\u001b[38;5;241m.\u001b[39mlim_offset\n\u001b[0;32m   1973\u001b[0m e_edge \u001b[38;5;241m=\u001b[39m \u001b[38;5;28mself\u001b[39m\u001b[38;5;241m.\u001b[39max_pos[\u001b[38;5;241m-\u001b[39m\u001b[38;5;241m1\u001b[39m] \u001b[38;5;241m+\u001b[39m \u001b[38;5;241m0.25\u001b[39m \u001b[38;5;241m+\u001b[39m \u001b[38;5;28mself\u001b[39m\u001b[38;5;241m.\u001b[39mbar_width \u001b[38;5;241m+\u001b[39m \u001b[38;5;28mself\u001b[39m\u001b[38;5;241m.\u001b[39mlim_offset\n\u001b[0;32m   1975\u001b[0m \u001b[38;5;28mself\u001b[39m\u001b[38;5;241m.\u001b[39m_decorate_ticks(ax, \u001b[38;5;28mself\u001b[39m\u001b[38;5;241m.\u001b[39m_get_index_name(), str_index, s_edge, e_edge)\n",
      "\u001b[1;31mIndexError\u001b[0m: index 0 is out of bounds for axis 0 with size 0"
     ]
    },
    {
     "data": {
      "image/png": "[encoded data removed]",
      "text/plain": [
       "<Figure size 640x480 with 1 Axes>"
      ]
     },
     "metadata": {},
     "output_type": "display_data"
    }
   ],
   "source": [
    "# Quick Visualization (Optional)\n",
    "import matplotlib.pyplot as plt\n",
    "\n",
    "# Plot distribution of labels\n",
    "df[\"label\"].value_counts().plot(kind=\"bar\", color=[\"green\",\"red\",\"orange\"])\n",
    "plt.title(\"Label Distribution (0=Truth, 1=Lie, 2=Uncertain)\")\n",
    "plt.xlabel(\"Label\")\n",
    "plt.ylabel(\"Count\")\n",
    "plt.show()\n"
   ]
  },
  {
   "cell_type": "code",
   "execution_count": 18,
   "id": "a8e7e9a2-06a4-4747-8ff1-c8cf0d98ce89",
   "metadata": {},
   "outputs": [
    {
     "name": "stdout",
     "output_type": "stream",
     "text": [
      "(0, 33)\n",
      "Empty DataFrame\n",
      "Columns: [mfcc_mean_0, mfcc_mean_1, mfcc_mean_2, mfcc_mean_3, mfcc_mean_4, mfcc_mean_5, mfcc_mean_6, mfcc_mean_7, mfcc_mean_8, mfcc_mean_9, mfcc_mean_10, mfcc_mean_11, mfcc_mean_12, mfcc_std_0, mfcc_std_1, mfcc_std_2, mfcc_std_3, mfcc_std_4, mfcc_std_5, mfcc_std_6, mfcc_std_7, mfcc_std_8, mfcc_std_9, mfcc_std_10, mfcc_std_11, mfcc_std_12, pitch_mean, pitch_std, zcr_mean, zcr_std, rms_mean, rms_std, label]\n",
      "Index: []\n",
      "\n",
      "[0 rows x 33 columns]\n"
     ]
    }
   ],
   "source": [
    "print(df.shape)\n",
    "print(df.head())\n"
   ]
  },
  {
   "cell_type": "code",
   "execution_count": 19,
   "id": "67083c0b-660b-4009-bf38-def25673c52a",
   "metadata": {},
   "outputs": [
    {
     "name": "stdout",
     "output_type": "stream",
     "text": [
      "Rows in df: 0\n",
      "Empty DataFrame\n",
      "Columns: [mfcc_mean_0, mfcc_mean_1, mfcc_mean_2, mfcc_mean_3, mfcc_mean_4, mfcc_mean_5, mfcc_mean_6, mfcc_mean_7, mfcc_mean_8, mfcc_mean_9, mfcc_mean_10, mfcc_mean_11, mfcc_mean_12, mfcc_std_0, mfcc_std_1, mfcc_std_2, mfcc_std_3, mfcc_std_4, mfcc_std_5, mfcc_std_6, mfcc_std_7, mfcc_std_8, mfcc_std_9, mfcc_std_10, mfcc_std_11, mfcc_std_12, pitch_mean, pitch_std, zcr_mean, zcr_std, rms_mean, rms_std, label]\n",
      "Index: []\n",
      "\n",
      "[0 rows x 33 columns]\n"
     ]
    }
   ],
   "source": [
    "print(\"Rows in df:\", len(df))\n",
    "print(df.head())\n"
   ]
  },
  {
   "cell_type": "code",
   "execution_count": null,
   "id": "ada07f57-0b25-4c43-8683-c7347b5ab51d",
   "metadata": {},
   "outputs": [],
   "source": []
  }
 ],
 "metadata": {
  "kernelspec": {
   "display_name": "Python 3 (ipykernel)",
   "language": "python",
   "name": "python3"
  },
  "language_info": {
   "codemirror_mode": {
    "name": "ipython",
    "version": 3
   },
   "file_extension": ".py",
   "mimetype": "text/x-python",
   "name": "python",
   "nbconvert_exporter": "python",
   "pygments_lexer": "ipython3",
   "version": "3.10.11"
  }
 },
 "nbformat": 4,
 "nbformat_minor": 5
}
